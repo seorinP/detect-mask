{
 "cells": [
  {
   "cell_type": "markdown",
   "metadata": {},
   "source": [
    "# FACE-MASK-DETECTION을 인천TP 내부망에서 실행 시 알아야 할 것들  "
   ]
  },
  {
   "cell_type": "markdown",
   "metadata": {},
   "source": [
    "1. 테스트 환경 : cheetah 개발서버\n",
    "2. 이미지 : cheetah/gpu-workspace:ubuntu18.04-cuda10.1-cudnn7\n",
    "3. 가상 환경 : tf2.1.0-keras2.3.1-py3.7-cuda10.1    "
   ]
  },
  {
   "cell_type": "markdown",
   "metadata": {},
   "source": [
    "4. 설치된 라이브러리  \n",
    "tensorflow>=1.15.2  \n",
    "keras==2.3.1  \n",
    "imutils==0.5.3  \n",
    "numpy==1.18.2  \n",
    "opencv-python==4.2.0.*  \n",
    "matplotlib==3.2.1  \n",
    "argparse==1.1  \n",
    "scipy==1.4.1  \n",
    "scikit-learn==0.23.1  \n",
    "pillow==7.2.0  \n",
    "streamlit==0.65.2  \n",
    "h5py==2.10.0  "
   ]
  },
  {
   "cell_type": "code",
   "execution_count": null,
   "metadata": {},
   "outputs": [],
   "source": [
    "python3 -m pip install --upgrade pip"
   ]
  },
  {
   "cell_type": "markdown",
   "metadata": {},
   "source": [
    "requirements.txt가 있는 폴더로 이동"
   ]
  },
  {
   "cell_type": "code",
   "execution_count": null,
   "metadata": {},
   "outputs": [],
   "source": [
    "pip3 install -r requirements.txt"
   ]
  },
  {
   "cell_type": "markdown",
   "metadata": {},
   "source": [
    "Encoding 에러 방지를 위한 h5py패키지 Downgrade   \n",
    "**만약 되지 않을 때 점검해야할 것들   \n",
    "  1) .config/pip/pip.conf 파일이 있는지 확인   \n",
    "  2) 장비의 인터넷이 되는지 확인(Network Plugin)"
   ]
  },
  {
   "cell_type": "code",
   "execution_count": null,
   "metadata": {},
   "outputs": [],
   "source": [
    "python3 -m pip install h5py==2.10.0"
   ]
  },
  {
   "cell_type": "markdown",
   "metadata": {},
   "source": [
    "데이터셋들을 이용해 모델을 학습"
   ]
  },
  {
   "cell_type": "code",
   "execution_count": null,
   "metadata": {},
   "outputs": [],
   "source": [
    "python3 train_mask_detector.py --dataset dataset"
   ]
  },
  {
   "cell_type": "markdown",
   "metadata": {},
   "source": [
    "1) 저장된 이미지에서 마스크 검출"
   ]
  },
  {
   "cell_type": "code",
   "execution_count": null,
   "metadata": {},
   "outputs": [],
   "source": [
    "python3 detect_mask_image.py --image images/pic1.jpeg"
   ]
  },
  {
   "cell_type": "markdown",
   "metadata": {},
   "source": [
    "2) 저장된 동영상에서 마스크 검출  \n",
    "(비디오 변경은 detect_mask_saved_video.py 파일의 126번째 줄에서 변경 가능)"
   ]
  },
  {
   "cell_type": "code",
   "execution_count": null,
   "metadata": {},
   "outputs": [],
   "source": [
    "python3 detect_mask_saved_video.py "
   ]
  },
  {
   "cell_type": "markdown",
   "metadata": {},
   "source": [
    "** 내부망에서 테스트하는 경우"
   ]
  },
  {
   "cell_type": "markdown",
   "metadata": {},
   "source": [
    "1. so파일은 tensort 설치 및 사용\n",
    "2. MobileNETV2 라이브러리 설치\n",
    "   1. $ cd /home/jovyan_venv/.venv/tf2.1.0-keras2.3.1-py3.7-cuda10.1/lib/python3.7/site-packages/keras_applications/ \n",
    "   2. mobilenet_v2.py 저장\n",
    "   3. baseModel과 baseModel.load_weights 부분이 변경되었음(90번 째 라인, 원래는 github 다운로드였으나 직접 로드하는 식으로 변경)"
   ]
  },
  {
   "cell_type": "code",
   "execution_count": null,
   "metadata": {},
   "outputs": [],
   "source": [
    "## load the MobileNetV2 network, ensuring the head FC layer sets are\n",
    "## left off\n",
    "baseModel = MobileNetV2(weights=None, include_top=False,\n",
    "        input_tensor=Input(shape=(224, 224, 3)))\n",
    "baseModel.load_weights('./mobilenet_v2_weights_tf_dim_ordering_tf_kernels_1.0_224_no_top.h5')"
   ]
  },
  {
   "cell_type": "markdown",
   "metadata": {},
   "source": [
    "4.모델 학습 시 소요되는 시간\n",
    "\n",
    "1. GTX 1080 : 약 7분 49초\n",
    "2. v100 : 약 5분"
   ]
  }
 ],
 "metadata": {
  "kernelspec": {
   "display_name": "Python 3",
   "language": "python",
   "name": "python3"
  },
  "language_info": {
   "codemirror_mode": {
    "name": "ipython",
    "version": 3
   },
   "file_extension": ".py",
   "mimetype": "text/x-python",
   "name": "python",
   "nbconvert_exporter": "python",
   "pygments_lexer": "ipython3",
   "version": "3.7.5"
  }
 },
 "nbformat": 4,
 "nbformat_minor": 4
}
